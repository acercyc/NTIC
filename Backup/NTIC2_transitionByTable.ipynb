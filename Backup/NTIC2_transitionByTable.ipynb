{
 "cells": [
  {
   "cell_type": "code",
   "execution_count": 2,
   "metadata": {
    "cell_style": "center",
    "init_cell": true
   },
   "outputs": [],
   "source": [
    "import matplotlib.pyplot as plt\n",
    "import networkx as nx\n",
    "import networkx.generators.random_graphs as ggen\n",
    "from networkx.convert_matrix import to_numpy_matrix as g2a\n",
    "from networkx.convert_matrix import from_numpy_matrix as a2g\n",
    "from nxpd import draw\n",
    "\n",
    "import dit\n",
    "\n",
    "import itertools\n",
    "import numpy as np\n",
    "from numpy import array as npa\n",
    "\n",
    "import random"
   ]
  },
  {
   "cell_type": "code",
   "execution_count": 3,
   "metadata": {},
   "outputs": [],
   "source": [
    "def genAllComb(n):\n",
    "    return list(itertools.product('01', repeat=n))\n",
    "\n",
    "def genTranTable(comb):\n",
    "    nComb = comb.shape[0]\n",
    "    p = np.ones(nComb)/nComb\n",
    "    iComb_ = np.random.choice(range(nComb), nComb, replace=True, p=p)\n",
    "    comb_ = comb[iComb_]\n",
    "    return comb_\n",
    "\n",
    "def npa2str(a):\n",
    "    return [''.join(x) for x in a.astype(str)]\n",
    "\n",
    "def conditional_mutual_information(d, X, Y, Z):\n",
    "    return dit.shannon.mutual_information(d, X, Y+Z) - dit.shannon.mutual_information(d, X, Z)\n",
    "\n",
    "def genSysEnvVarInd(Yt, n):\n",
    "    Et = list(set(range(n)) - set(Yt))\n",
    "    Yt_ = [x+n for x in Yt]\n",
    "    Et_ = [x+n for x in Et]\n",
    "    return Yt, Et, Yt_, Et_\n",
    "\n",
    "def NTIC(d, Yt):\n",
    "    n = len(d.rvs) // 2\n",
    "    Et = list(set(range(n)) - set(Yt))\n",
    "    Yt_ = [x+n for x in Yt]\n",
    "    Et_ = [x+n for x in Et]\n",
    "    return dit.shannon.mutual_information(d, Yt_, Yt) - conditional_mutual_information(d, Yt_, Yt, Et)\n",
    "\n",
    "def genAllSubsets(X):\n",
    "    subsets = []\n",
    "    for iLen in range(len(X)):\n",
    "        subset = list(itertools.combinations(X, iLen+1))\n",
    "        subsets = subsets + subset\n",
    "    return subsets"
   ]
  },
  {
   "cell_type": "code",
   "execution_count": 4,
   "metadata": {},
   "outputs": [
    {
     "name": "stdout",
     "output_type": "stream",
     "text": [
      "Class:          Distribution\nAlphabet:       ('0', '1') for all rvs\nBase:           linear\nOutcome Class:  str\nOutcome Length: 12\nRV Names:       (0, 1, 2, 3, 4, 5, 6, 7, 8, 9, 10, 11)\n\nx              p(x)\n000000001001   0.125\n001001101101   0.125\n010010001001   0.125\n011011001001   0.125\n100100000000   0.125\n101101010010   0.125\n110110111111   0.125\n111111100100   0.125\n"
     ]
    }
   ],
   "source": [
    "n = 3\n",
    "comb = npa(genAllComb(n))\n",
    "comb_ = genTranTable(comb)\n",
    "# tranTable = np.hstack([comb, comb_])\n",
    "tranTable = np.hstack([comb, comb, comb_, comb_])\n",
    "tranTable = npa2str(tranTable)\n",
    "\n",
    "# tern into dist\n",
    "prob = np.ones(len(tranTable))/len(tranTable)\n",
    "d = dit.Distribution(tranTable, prob)\n",
    "d.set_rv_names(range(len(d.rvs)))\n",
    "d.alphabet = (('0', '1'),)*len(d.rvs)\n",
    "print(d)"
   ]
  },
  {
   "cell_type": "code",
   "execution_count": 5,
   "metadata": {},
   "outputs": [
    {
     "data": {
      "text/plain": [
       "0.6556390622295662"
      ]
     },
     "execution_count": 5,
     "metadata": {},
     "output_type": "execute_result"
    }
   ],
   "source": [
    "X = [3]\n",
    "Y = [2]\n",
    "Z = [0, 1]\n",
    "conditional_mutual_information(d, X, Y, Z)\n",
    "NTIC(d, [0,1,2,3,4])"
   ]
  },
  {
   "cell_type": "code",
   "execution_count": null,
   "metadata": {},
   "outputs": [
    {
     "data": {
      "text/plain": [
       "[0, 1, 2]"
      ]
     },
     "execution_count": 7,
     "metadata": {},
     "output_type": "execute_result"
    }
   ],
   "source": [
    "Yt = [0]\n",
    "\n",
    "h_Yt = []\n",
    "h_Et = []\n",
    "h_NTIC = []\n",
    "\n",
    "Yt, Et, Yt_, Et_ = genSysEnvVarInd(Yt, len(d.rvs)//2)\n",
    "h_Yt.append(Yt)\n",
    "h_Et.append(Et)\n",
    "h_NTIC.append(NTIC(d, Yt))\n",
    "\n",
    "# recruit \n",
    "Esubsets = genAllSubsets(Et)\n",
    "NTIC_ = [NTIC(d, Yt + list(iSubset)) for iSubset in Esubsets]\n",
    "NTIC_ = npa(NTIC_)\n",
    "i_NTIC_max = np.argmax(NTIC_)\n",
    "Yt_NTIC_max = Yt + list(Esubsets[i_NTIC_max])\n",
    "Yt_NTIC_max"
   ]
  },
  {
   "cell_type": "code",
   "execution_count": 164,
   "metadata": {},
   "outputs": [
    {
     "data": {
      "text/plain": [
       "[0, 1, 2]"
      ]
     },
     "execution_count": 164,
     "metadata": {},
     "output_type": "execute_result"
    }
   ],
   "source": [
    "Yt_NTIC_max"
   ]
  }
 ],
 "metadata": {
  "hide_input": false,
  "kernelspec": {
   "display_name": "Python 3",
   "language": "python",
   "name": "python3"
  },
  "language_info": {
   "codemirror_mode": {
    "name": "ipython",
    "version": 3
   },
   "file_extension": ".py",
   "mimetype": "text/x-python",
   "name": "python",
   "nbconvert_exporter": "python",
   "pygments_lexer": "ipython3",
   "version": "3.7.2"
  },
  "toc": {
   "base_numbering": 1.0,
   "nav_menu": {
    "height": "169px",
    "width": "329px"
   },
   "number_sections": true,
   "sideBar": true,
   "skip_h1_title": false,
   "title_cell": "Table of Contents",
   "title_sidebar": "Contents",
   "toc_cell": false,
   "toc_position": {},
   "toc_section_display": "block",
   "toc_window_display": false
  },
  "varInspector": {
   "cols": {
    "lenName": 16.0,
    "lenType": 16.0,
    "lenVar": 40.0
   },
   "kernels_config": {
    "python": {
     "delete_cmd_postfix": "",
     "delete_cmd_prefix": "del ",
     "library": "var_list.py",
     "varRefreshCmd": "print(var_dic_list())"
    },
    "r": {
     "delete_cmd_postfix": ") ",
     "delete_cmd_prefix": "rm(",
     "library": "var_list.r",
     "varRefreshCmd": "cat(var_dic_list()) "
    }
   },
   "oldHeight": 555.0,
   "position": {
    "height": "577px",
    "left": "1546px",
    "right": "20px",
    "top": "121px",
    "width": "354px"
   },
   "types_to_exclude": [
    "module",
    "function",
    "builtin_function_or_method",
    "instance",
    "_Feature"
   ],
   "varInspector_section_display": "block",
   "window_display": true
  }
 },
 "nbformat": 4,
 "nbformat_minor": 2
}
