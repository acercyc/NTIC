{
 "cells": [
  {
   "cell_type": "code",
   "execution_count": 1,
   "metadata": {},
   "outputs": [],
   "source": [
    "import matplotlib.pyplot as plt\n",
    "import networkx as nx\n",
    "import networkx.generators.random_graphs as ggen\n",
    "from networkx.convert_matrix import to_numpy_matrix as g2a\n",
    "from networkx.convert_matrix import from_numpy_matrix as a2g\n",
    "from nxpd import draw\n",
    "\n",
    "import dit\n",
    "\n",
    "import itertools\n",
    "import numpy as np\n",
    "from numpy import array as npa\n",
    "\n"
   ]
  },
  {
   "cell_type": "code",
   "execution_count": 3,
   "metadata": {},
   "outputs": [],
   "source": [
    "def f_act_mod(act, a):\n",
    "#     print(act)\n",
    "    act = np.logical_not(act)\n",
    "#     print(act)\n",
    "    act = act.astype(int)\n",
    "#     print(act)\n",
    "    act = np.dot(act, a)\n",
    "#     print(act)\n",
    "    act = np.mod(act, 2)\n",
    "#     print(act)\n",
    "#     act = np.logical_not(act)\n",
    "#     act = act.astype(int)\n",
    "#     act = act.astype(bool)\n",
    "#     print(act)\n",
    "#     act = np.logical_not(act)\n",
    "    return act\n",
    "\n",
    "\n",
    "def NetEvo(act, a, f_act, nIter):\n",
    "    act_history = []\n",
    "    for i in range(0, nIter):\n",
    "        act = f_act(act, a)\n",
    "        act_history.append(act)\n",
    "    return act_history\n",
    "\n",
    "def genAllComb(n):\n",
    "    return list(itertools.product('01', repeat=n))"
   ]
  },
  {
   "cell_type": "code",
   "execution_count": 26,
   "metadata": {},
   "outputs": [
    {
     "name": "stdout",
     "output_type": "stream",
     "text": [
      "[('1', '0', '0'), ('1', '0', '1'), ('1', '1', '0'), ('1', '1', '1')]\n",
      "[0.25, 0.25, 0.25, 0.25]\n"
     ]
    }
   ],
   "source": [
    "n = 3\n",
    "comb_s = genAllComb(n)\n",
    "prob = [0]*4 + [0.25] * 4\n",
    "\n",
    "comb_s = [comb_s[x] for x in range(4,8)]\n",
    "prob = [prob[x] for x in range(4,8)]\n",
    "\n",
    "print(comb_s)\n",
    "print(prob)\n"
   ]
  },
  {
   "cell_type": "code",
   "execution_count": 30,
   "metadata": {},
   "outputs": [
    {
     "name": "stdout",
     "output_type": "stream",
     "text": [
      "Class:          Distribution\n",
      "Alphabet:       (('1',), ('0', '1'), ('0', '1'))\n",
      "Base:           linear\n",
      "Outcome Class:  tuple\n",
      "Outcome Length: 3\n",
      "RV Names:       (0, 1, 2)\n",
      "\n",
      "x                 p(x)\n",
      "('1', '0', '0')   0.25\n",
      "('1', '0', '1')   0.25\n",
      "('1', '1', '0')   0.25\n",
      "('1', '1', '1')   0.25\n"
     ]
    },
    {
     "data": {
      "text/plain": [
       "1.0"
      ]
     },
     "execution_count": 30,
     "metadata": {},
     "output_type": "execute_result"
    }
   ],
   "source": [
    "d = dit.Distribution(comb_s, prob)\n",
    "d.set_rv_names(range(n))\n",
    "print(d)\n",
    "\n",
    "dit.shannon.conditional_entropy(d, [1], [0])\n",
    "# dit.shannon.entropy(d, [0, 1])\n"
   ]
  }
 ],
 "metadata": {
  "hide_input": false,
  "kernelspec": {
   "display_name": "Python 3",
   "language": "python",
   "name": "python3"
  },
  "language_info": {
   "codemirror_mode": {
    "name": "ipython",
    "version": 3
   },
   "file_extension": ".py",
   "mimetype": "text/x-python",
   "name": "python",
   "nbconvert_exporter": "python",
   "pygments_lexer": "ipython3",
   "version": "3.7.2"
  },
  "varInspector": {
   "cols": {
    "lenName": 16,
    "lenType": 16,
    "lenVar": 40
   },
   "kernels_config": {
    "python": {
     "delete_cmd_postfix": "",
     "delete_cmd_prefix": "del ",
     "library": "var_list.py",
     "varRefreshCmd": "print(var_dic_list())"
    },
    "r": {
     "delete_cmd_postfix": ") ",
     "delete_cmd_prefix": "rm(",
     "library": "var_list.r",
     "varRefreshCmd": "cat(var_dic_list()) "
    }
   },
   "types_to_exclude": [
    "module",
    "function",
    "builtin_function_or_method",
    "instance",
    "_Feature"
   ],
   "window_display": false
  }
 },
 "nbformat": 4,
 "nbformat_minor": 2
}
