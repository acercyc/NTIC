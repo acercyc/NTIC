{
  "cells": [
    {
      "cell_type": "markdown",
      "metadata": {
        "pycharm": {}
      },
      "source": [
        "# Demo: dit library "
      ]
    },
    {
      "cell_type": "markdown",
      "metadata": {
        "pycharm": {}
      },
      "source": [
        "## Create Distribution Object"
      ]
    },
    {
      "cell_type": "code",
      "execution_count": 4,
      "metadata": {
        "pycharm": {
          "is_executing": false
        }
      },
      "outputs": [
        {
          "name": "stdout",
          "text": [
            "Class:          Distribution\nAlphabet:       (\u0027s1\u0027, \u0027s2\u0027) for all rvs\nBase:           linear\nOutcome Class:  tuple\nOutcome Length: 2\nRV Names:       (0, 1)\n\nx              p(x)\n(\u0027s1\u0027, \u0027s1\u0027)   0.3\n(\u0027s1\u0027, \u0027s2\u0027)   0.1\n(\u0027s2\u0027, \u0027s1\u0027)   0.2\n(\u0027s2\u0027, \u0027s2\u0027)   0.4\n"
          ],
          "output_type": "stream"
        }
      ],
      "source": "import dit\n\n# comb indicate 2 var joint prob, \n# Need tuple\ncomb \u003d [(\u0027s1\u0027, \u0027s2\u0027),\n        (\u0027s2\u0027, \u0027s1\u0027),\n        (\u0027s1\u0027, \u0027s1\u0027),\n        (\u0027s2\u0027, \u0027s2\u0027)]\n\n# Need tuple\nprob \u003d (0.1, 0.2, 0.3, 0.4)\n\n\n# Create distbution obj\nd \u003d dit.Distribution(comb, prob)\n\n# set name\nd.set_rv_names(range(len(d.rvs)))\n\nprint(d)"
    },
    {
      "cell_type": "markdown",
      "metadata": {
        "pycharm": {
          "name": "#%% md\n"
        }
      },
      "source": "# Compute information theory "
    },
    {
      "cell_type": "code",
      "execution_count": 14,
      "outputs": [
        {
          "name": "stdout",
          "text": [
            "0.12451124978365291\n0.9709505944546685\n"
          ],
          "output_type": "stream"
        }
      ],
      "source": "# Mutual Information\n# mutual_information(dist, rvs_X, rvs_Y, rv_mode\u003dNone)\n# rvs_X, rvs_Y, need to be lists\nprint(dit.shannon.mutual_information(d, [0], [1]))\nprint(dit.shannon.mutual_information(d, [0], [0, 1]))",
      "metadata": {
        "pycharm": {
          "metadata": false,
          "name": "#%%\n",
          "is_executing": false
        }
      }
    }
  ],
  "metadata": {
    "hide_input": false,
    "kernelspec": {
      "display_name": "Python 3",
      "language": "python",
      "name": "python3"
    },
    "language_info": {
      "codemirror_mode": {
        "name": "ipython",
        "version": 3
      },
      "file_extension": ".py",
      "mimetype": "text/x-python",
      "name": "python",
      "nbconvert_exporter": "python",
      "pygments_lexer": "ipython3",
      "version": "3.7.2"
    },
    "varInspector": {
      "cols": {
        "lenName": 16,
        "lenType": 16,
        "lenVar": 40
      },
      "kernels_config": {
        "python": {
          "delete_cmd_postfix": "",
          "delete_cmd_prefix": "del ",
          "library": "var_list.py",
          "varRefreshCmd": "print(var_dic_list())"
        },
        "r": {
          "delete_cmd_postfix": ") ",
          "delete_cmd_prefix": "rm(",
          "library": "var_list.r",
          "varRefreshCmd": "cat(var_dic_list()) "
        }
      },
      "types_to_exclude": [
        "module",
        "function",
        "builtin_function_or_method",
        "instance",
        "_Feature"
      ],
      "window_display": false
    }
  },
  "nbformat": 4,
  "nbformat_minor": 2
}