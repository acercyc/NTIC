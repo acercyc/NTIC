{
 "cells": [
  {
   "cell_type": "code",
   "execution_count": 11,
   "metadata": {
    "cell_style": "center",
    "init_cell": true
   },
   "outputs": [],
   "source": [
    "import matplotlib.pyplot as plt\n",
    "import networkx as nx\n",
    "import networkx.generators.random_graphs as ggen\n",
    "from networkx.convert_matrix import to_numpy_matrix as g2a\n",
    "from networkx.convert_matrix import from_numpy_matrix as a2g\n",
    "from nxpd import draw\n",
    "\n",
    "import dit\n",
    "\n",
    "import itertools\n",
    "import numpy as np\n",
    "from numpy import array as npa\n",
    "\n",
    "import random"
   ]
  },
  {
   "cell_type": "code",
   "execution_count": 141,
   "metadata": {},
   "outputs": [],
   "source": [
    "def genAllComb(n):\n",
    "    return list(itertools.product('01', repeat=n))\n",
    "\n",
    "def genTranTable(comb):\n",
    "    nComb = comb.shape[0]\n",
    "    p = np.ones(nComb)/nComb\n",
    "    iComb_ = np.random.choice(range(nComb), nComb, replace=True, p=p)\n",
    "    comb_ = comb[iComb_]\n",
    "    return comb_\n",
    "\n",
    "def npa2str(a):\n",
    "    return [''.join(x) for x in a.astype(str)]\n",
    "\n",
    "def conditional_mutual_information(d, X, Y, Z):\n",
    "    return dit.shannon.mutual_information(d, X, Y+Z) - dit.shannon.mutual_information(d, X, Z)\n",
    "\n",
    "def genSysEnvVarInd(Yt, n):\n",
    "    Et = list(set(range(n)) - set(Yt))\n",
    "    Yt_ = [x+n for x in Yt]\n",
    "    Et_ = [x+n for x in Et]\n",
    "    return Yt, Et, Yt_, Et_\n",
    "\n",
    "def NTIC(d, Yt):\n",
    "    n = len(d.rvs) // 2\n",
    "    Et = list(set(range(n)) - set(Yt))\n",
    "    Yt_ = [x+n for x in Yt]\n",
    "    Et_ = [x+n for x in Et]\n",
    "    return dit.shannon.mutual_information(d, Yt_, Yt) - conditional_mutual_information(d, Yt_, Yt, Et)\n",
    "\n",
    "def genAllSubsets(X):\n",
    "    subsets = []\n",
    "    for iLen in range(len(X)):\n",
    "        subset = list(itertools.combinations(X, iLen+1))\n",
    "        subsets = subsets + subset\n",
    "    return subsets"
   ]
  },
  {
   "cell_type": "code",
   "execution_count": 117,
   "metadata": {},
   "outputs": [
    {
     "name": "stdout",
     "output_type": "stream",
     "text": [
      "Class:          Distribution\n",
      "Alphabet:       ('0', '1') for all rvs\n",
      "Base:           linear\n",
      "Outcome Class:  str\n",
      "Outcome Length: 12\n",
      "RV Names:       (0, 1, 2, 3, 4, 5, 6, 7, 8, 9, 10, 11)\n",
      "\n",
      "x              p(x)\n",
      "000000010010   0.125\n",
      "001001100100   0.125\n",
      "010010100100   0.125\n",
      "011011111111   0.125\n",
      "100100010010   0.125\n",
      "101101010010   0.125\n",
      "110110001001   0.125\n",
      "111111101101   0.125\n"
     ]
    }
   ],
   "source": [
    "n = 3\n",
    "comb = npa(genAllComb(n))\n",
    "comb_ = genTranTable(comb)\n",
    "# tranTable = np.hstack([comb, comb_])\n",
    "tranTable = np.hstack([comb, comb, comb_, comb_])\n",
    "tranTable = npa2str(tranTable)\n",
    "\n",
    "# tern into dist\n",
    "prob = np.ones(len(tranTable))/len(tranTable)\n",
    "d = dit.Distribution(tranTable, prob)\n",
    "d.set_rv_names(range(len(d.rvs)))\n",
    "d.alphabet = (('0', '1'),)*len(d.rvs)\n",
    "print(d)"
   ]
  },
  {
   "cell_type": "code",
   "execution_count": 126,
   "metadata": {},
   "outputs": [
    {
     "data": {
      "text/plain": [
       "0.40563906222956625"
      ]
     },
     "execution_count": 126,
     "metadata": {},
     "output_type": "execute_result"
    }
   ],
   "source": [
    "X = [3]\n",
    "Y = [2]\n",
    "Z = [0, 1]\n",
    "conditional_mutual_information(d, X, Y, Z)\n",
    "NTIC(d, [0,1,2,3,4])"
   ]
  },
  {
   "cell_type": "code",
   "execution_count": 137,
   "metadata": {},
   "outputs": [
    {
     "data": {
      "text/plain": [
       "[(1,), (2,), (9,), (1, 2), (1, 9), (2, 9), (1, 2, 9)]"
      ]
     },
     "execution_count": 137,
     "metadata": {},
     "output_type": "execute_result"
    }
   ],
   "source": [
    "\n",
    "\n",
    "genAllSubsets(X)\n"
   ]
  },
  {
   "cell_type": "code",
   "execution_count": 140,
   "metadata": {},
   "outputs": [
    {
     "data": {
      "text/plain": [
       "([1], [0, 2, 3], [5], [4, 6, 7])"
      ]
     },
     "execution_count": 140,
     "metadata": {},
     "output_type": "execute_result"
    }
   ],
   "source": [
    "genSysEnvVarInd(Yt, n)"
   ]
  }
 ],
 "metadata": {
  "hide_input": false,
  "kernelspec": {
   "display_name": "Python 3",
   "language": "python",
   "name": "python3"
  },
  "language_info": {
   "codemirror_mode": {
    "name": "ipython",
    "version": 3
   },
   "file_extension": ".py",
   "mimetype": "text/x-python",
   "name": "python",
   "nbconvert_exporter": "python",
   "pygments_lexer": "ipython3",
   "version": "3.7.2"
  },
  "toc": {
   "base_numbering": 1,
   "nav_menu": {
    "height": "169px",
    "width": "329px"
   },
   "number_sections": true,
   "sideBar": true,
   "skip_h1_title": false,
   "title_cell": "Table of Contents",
   "title_sidebar": "Contents",
   "toc_cell": false,
   "toc_position": {},
   "toc_section_display": "block",
   "toc_window_display": false
  },
  "varInspector": {
   "cols": {
    "lenName": 16,
    "lenType": 16,
    "lenVar": 40
   },
   "kernels_config": {
    "python": {
     "delete_cmd_postfix": "",
     "delete_cmd_prefix": "del ",
     "library": "var_list.py",
     "varRefreshCmd": "print(var_dic_list())"
    },
    "r": {
     "delete_cmd_postfix": ") ",
     "delete_cmd_prefix": "rm(",
     "library": "var_list.r",
     "varRefreshCmd": "cat(var_dic_list()) "
    }
   },
   "oldHeight": 555,
   "position": {
    "height": "577px",
    "left": "1546px",
    "right": "20px",
    "top": "121px",
    "width": "354px"
   },
   "types_to_exclude": [
    "module",
    "function",
    "builtin_function_or_method",
    "instance",
    "_Feature"
   ],
   "varInspector_section_display": "block",
   "window_display": true
  }
 },
 "nbformat": 4,
 "nbformat_minor": 2
}
