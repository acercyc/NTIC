{
 "cells": [
  {
   "cell_type": "markdown",
   "metadata": {},
   "source": [
    "# Demo: dit library "
   ]
  },
  {
   "cell_type": "markdown",
   "metadata": {},
   "source": [
    "## Create distribution Obj"
   ]
  },
  {
   "cell_type": "code",
   "execution_count": 5,
   "metadata": {},
   "outputs": [
    {
     "name": "stdout",
     "output_type": "stream",
     "text": [
      "Class:          Distribution\n",
      "Alphabet:       ('s1', 's2') for all rvs\n",
      "Base:           linear\n",
      "Outcome Class:  tuple\n",
      "Outcome Length: 2\n",
      "RV Names:       None\n",
      "\n",
      "x              p(x)\n",
      "('s1', 's1')   0.3\n",
      "('s1', 's2')   0.1\n",
      "('s2', 's1')   0.2\n",
      "('s2', 's2')   0.4\n"
     ]
    }
   ],
   "source": [
    "import dit\n",
    "\n",
    "# comb indicate 2 var joint prob, \n",
    "# Need tuple\n",
    "comb = [('s1', 's2'),\n",
    "        ('s2', 's1'),\n",
    "        ('s1', 's1'),\n",
    "        ('s2', 's2')]\n",
    "\n",
    "# Need tuple\n",
    "prob = (0.1, 0.2, 0.3, 0.4)\n",
    "\n",
    "\n",
    "# Create distbution obj\n",
    "dist = dit.Distribution(comb, prob)\n",
    "print(dist)"
   ]
  },
  {
   "cell_type": "code",
   "execution_count": null,
   "metadata": {},
   "outputs": [],
   "source": []
  }
 ],
 "metadata": {
  "hide_input": false,
  "kernelspec": {
   "display_name": "Python 3",
   "language": "python",
   "name": "python3"
  },
  "language_info": {
   "codemirror_mode": {
    "name": "ipython",
    "version": 3
   },
   "file_extension": ".py",
   "mimetype": "text/x-python",
   "name": "python",
   "nbconvert_exporter": "python",
   "pygments_lexer": "ipython3",
   "version": "3.7.2"
  },
  "varInspector": {
   "cols": {
    "lenName": 16,
    "lenType": 16,
    "lenVar": 40
   },
   "kernels_config": {
    "python": {
     "delete_cmd_postfix": "",
     "delete_cmd_prefix": "del ",
     "library": "var_list.py",
     "varRefreshCmd": "print(var_dic_list())"
    },
    "r": {
     "delete_cmd_postfix": ") ",
     "delete_cmd_prefix": "rm(",
     "library": "var_list.r",
     "varRefreshCmd": "cat(var_dic_list()) "
    }
   },
   "types_to_exclude": [
    "module",
    "function",
    "builtin_function_or_method",
    "instance",
    "_Feature"
   ],
   "window_display": false
  }
 },
 "nbformat": 4,
 "nbformat_minor": 2
}
